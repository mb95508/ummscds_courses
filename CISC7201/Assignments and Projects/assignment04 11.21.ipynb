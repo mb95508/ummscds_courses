<!DOCTYPE html>

<html  dir="ltr" lang="en" xml:lang="en">
<head>
    <title>2019/2020 CISC7201: assignment04 11.21</title>
    <link rel="shortcut icon" href="https://ummoodle.um.edu.mo/theme/image.php/boost/theme/1565773330/favicon" />
    <meta http-equiv="Content-Type" content="text/html; charset=utf-8" />
<meta name="keywords" content="moodle, 2019/2020 CISC7201: assignment04 11.21" />
<link rel="stylesheet" type="text/css" href="https://ummoodle.um.edu.mo/theme/yui_combo.php?rollup/3.17.2/yui-moodlesimple-min.css" /><script id="firstthemesheet" type="text/css">/** Required in order to fix style inclusion problems in IE with YUI **/</script><link rel="stylesheet" type="text/css" href="https://ummoodle.um.edu.mo/theme/styles.php/boost/1565773330_1561944628/all" />
<script type="text/javascript">
//<![CDATA[
var M = {}; M.yui = {};
M.pageloadstarttime = new Date();
M.cfg = {"wwwroot":"https:\/\/ummoodle.um.edu.mo","sesskey":"JdJwpu7etT","themerev":"1565773330","slasharguments":1,"theme":"boost","iconsystemmodule":"core\/icon_system_fontawesome","jsrev":"1561944178","admin":"admin","svgicons":true,"usertimezone":"UTC+8","contextid":2705319};var yui1ConfigFn = function(me) {if(/-skin|reset|fonts|grids|base/.test(me.name)){me.type='css';me.path=me.path.replace(/\.js/,'.css');me.path=me.path.replace(/\/yui2-skin/,'/assets/skins/sam/yui2-skin')}};
var yui2ConfigFn = function(me) {var parts=me.name.replace(/^moodle-/,'').split('-'),component=parts.shift(),module=parts[0],min='-min';if(/-(skin|core)$/.test(me.name)){parts.pop();me.type='css';min=''}
if(module){var filename=parts.join('-');me.path=component+'/'+module+'/'+filename+min+'.'+me.type}else{me.path=component+'/'+component+'.'+me.type}};
YUI_config = {"debug":false,"base":"https:\/\/ummoodle.um.edu.mo\/lib\/yuilib\/3.17.2\/","comboBase":"https:\/\/ummoodle.um.edu.mo\/theme\/yui_combo.php?","combine":true,"filter":null,"insertBefore":"firstthemesheet","groups":{"yui2":{"base":"https:\/\/ummoodle.um.edu.mo\/lib\/yuilib\/2in3\/2.9.0\/build\/","comboBase":"https:\/\/ummoodle.um.edu.mo\/theme\/yui_combo.php?","combine":true,"ext":false,"root":"2in3\/2.9.0\/build\/","patterns":{"yui2-":{"group":"yui2","configFn":yui1ConfigFn}}},"moodle":{"name":"moodle","base":"https:\/\/ummoodle.um.edu.mo\/theme\/yui_combo.php?m\/1561944178\/","combine":true,"comboBase":"https:\/\/ummoodle.um.edu.mo\/theme\/yui_combo.php?","ext":false,"root":"m\/1561944178\/","patterns":{"moodle-":{"group":"moodle","configFn":yui2ConfigFn}},"filter":null,"modules":{"moodle-core-actionmenu":{"requires":["base","event","node-event-simulate"]},"moodle-core-languninstallconfirm":{"requires":["base","node","moodle-core-notification-confirm","moodle-core-notification-alert"]},"moodle-core-chooserdialogue":{"requires":["base","panel","moodle-core-notification"]},"moodle-core-maintenancemodetimer":{"requires":["base","node"]},"moodle-core-checknet":{"requires":["base-base","moodle-core-notification-alert","io-base"]},"moodle-core-dock":{"requires":["base","node","event-custom","event-mouseenter","event-resize","escape","moodle-core-dock-loader","moodle-core-event"]},"moodle-core-dock-loader":{"requires":["escape"]},"moodle-core-tooltip":{"requires":["base","node","io-base","moodle-core-notification-dialogue","json-parse","widget-position","widget-position-align","event-outside","cache-base"]},"moodle-core-lockscroll":{"requires":["plugin","base-build"]},"moodle-core-popuphelp":{"requires":["moodle-core-tooltip"]},"moodle-core-notification":{"requires":["moodle-core-notification-dialogue","moodle-core-notification-alert","moodle-core-notification-confirm","moodle-core-notification-exception","moodle-core-notification-ajaxexception"]},"moodle-core-notification-dialogue":{"requires":["base","node","panel","escape","event-key","dd-plugin","moodle-core-widget-focusafterclose","moodle-core-lockscroll"]},"moodle-core-notification-alert":{"requires":["moodle-core-notification-dialogue"]},"moodle-core-notification-confirm":{"requires":["moodle-core-notification-dialogue"]},"moodle-core-notification-exception":{"requires":["moodle-core-notification-dialogue"]},"moodle-core-notification-ajaxexception":{"requires":["moodle-core-notification-dialogue"]},"moodle-core-dragdrop":{"requires":["base","node","io","dom","dd","event-key","event-focus","moodle-core-notification"]},"moodle-core-formchangechecker":{"requires":["base","event-focus","moodle-core-event"]},"moodle-core-event":{"requires":["event-custom"]},"moodle-core-blocks":{"requires":["base","node","io","dom","dd","dd-scroll","moodle-core-dragdrop","moodle-core-notification"]},"moodle-core-handlebars":{"condition":{"trigger":"handlebars","when":"after"}},"moodle-core_availability-form":{"requires":["base","node","event","event-delegate","panel","moodle-core-notification-dialogue","json"]},"moodle-backup-backupselectall":{"requires":["node","event","node-event-simulate","anim"]},"moodle-backup-confirmcancel":{"requires":["node","node-event-simulate","moodle-core-notification-confirm"]},"moodle-course-modchooser":{"requires":["moodle-core-chooserdialogue","moodle-course-coursebase"]},"moodle-course-categoryexpander":{"requires":["node","event-key"]},"moodle-course-management":{"requires":["base","node","io-base","moodle-core-notification-exception","json-parse","dd-constrain","dd-proxy","dd-drop","dd-delegate","node-event-delegate"]},"moodle-course-dragdrop":{"requires":["base","node","io","dom","dd","dd-scroll","moodle-core-dragdrop","moodle-core-notification","moodle-course-coursebase","moodle-course-util"]},"moodle-course-formatchooser":{"requires":["base","node","node-event-simulate"]},"moodle-course-util":{"requires":["node"],"use":["moodle-course-util-base"],"submodules":{"moodle-course-util-base":{},"moodle-course-util-section":{"requires":["node","moodle-course-util-base"]},"moodle-course-util-cm":{"requires":["node","moodle-course-util-base"]}}},"moodle-form-dateselector":{"requires":["base","node","overlay","calendar"]},"moodle-form-passwordunmask":{"requires":[]},"moodle-form-showadvanced":{"requires":["node","base","selector-css3"]},"moodle-form-shortforms":{"requires":["node","base","selector-css3","moodle-core-event"]},"moodle-question-chooser":{"requires":["moodle-core-chooserdialogue"]},"moodle-question-qbankmanager":{"requires":["node","selector-css3"]},"moodle-question-searchform":{"requires":["base","node"]},"moodle-question-preview":{"requires":["base","dom","event-delegate","event-key","core_question_engine"]},"moodle-availability_completion-form":{"requires":["base","node","event","moodle-core_availability-form"]},"moodle-availability_date-form":{"requires":["base","node","event","io","moodle-core_availability-form"]},"moodle-availability_grade-form":{"requires":["base","node","event","moodle-core_availability-form"]},"moodle-availability_group-form":{"requires":["base","node","event","moodle-core_availability-form"]},"moodle-availability_grouping-form":{"requires":["base","node","event","moodle-core_availability-form"]},"moodle-availability_profile-form":{"requires":["base","node","event","moodle-core_availability-form"]},"moodle-qtype_ddimageortext-form":{"requires":["moodle-qtype_ddimageortext-dd","form_filepicker"]},"moodle-qtype_ddimageortext-dd":{"requires":["node","dd","dd-drop","dd-constrain"]},"moodle-qtype_ddmarker-dd":{"requires":["node","event-resize","dd","dd-drop","dd-constrain","graphics"]},"moodle-qtype_ddmarker-form":{"requires":["moodle-qtype_ddmarker-dd","form_filepicker","graphics","escape"]},"moodle-qtype_ddwtos-dd":{"requires":["node","dd","dd-drop","dd-constrain"]},"moodle-mod_assign-history":{"requires":["node","transition"]},"moodle-mod_attendance-groupfilter":{"requires":["base","node"]},"moodle-mod_forum-subscriptiontoggle":{"requires":["base-base","io-base"]},"moodle-mod_hsuforum-io":{"requires":["base","io-base","io-form","io-upload-iframe","json-parse"]},"moodle-mod_hsuforum-article":{"requires":["base","node","event","router","core_rating","querystring","moodle-mod_hsuforum-io","moodle-mod_hsuforum-livelog","moodle-core-formchangechecker"]},"moodle-mod_hsuforum-livelog":{"requires":["widget"]},"moodle-mod_mediagallery-mediabox":{"requires":["base","node","selector-css3"]},"moodle-mod_mediagallery-base":{"requires":["base","node","selector-css3","dd-constrain","dd-proxy","dd-drop","dd-plugin","moodle-core-notification","event"]},"moodle-mod_quiz-quizbase":{"requires":["base","node"]},"moodle-mod_quiz-toolboxes":{"requires":["base","node","event","event-key","io","moodle-mod_quiz-quizbase","moodle-mod_quiz-util-slot","moodle-core-notification-ajaxexception"]},"moodle-mod_quiz-questionchooser":{"requires":["moodle-core-chooserdialogue","moodle-mod_quiz-util","querystring-parse"]},"moodle-mod_quiz-repaginate":{"requires":["base","event","node","io","moodle-core-notification-dialogue"]},"moodle-mod_quiz-modform":{"requires":["base","node","event"]},"moodle-mod_quiz-autosave":{"requires":["base","node","event","event-valuechange","node-event-delegate","io-form"]},"moodle-mod_quiz-dragdrop":{"requires":["base","node","io","dom","dd","dd-scroll","moodle-core-dragdrop","moodle-core-notification","moodle-mod_quiz-quizbase","moodle-mod_quiz-util-base","moodle-mod_quiz-util-page","moodle-mod_quiz-util-slot","moodle-course-util"]},"moodle-mod_quiz-util":{"requires":["node","moodle-core-actionmenu"],"use":["moodle-mod_quiz-util-base"],"submodules":{"moodle-mod_quiz-util-base":{},"moodle-mod_quiz-util-slot":{"requires":["node","moodle-mod_quiz-util-base"]},"moodle-mod_quiz-util-page":{"requires":["node","moodle-mod_quiz-util-base"]}}},"moodle-mod_scheduler-delselected":{"requires":["base","node","event"]},"moodle-mod_scheduler-studentlist":{"requires":["base","node","event","io"]},"moodle-mod_scheduler-saveseen":{"requires":["base","node","event"]},"moodle-message_airnotifier-toolboxes":{"requires":["base","node","io"]},"moodle-block_messageteacher-form":{"requires":["base","io","io-form","node","json","moodle-core-notification"]},"moodle-block_xp-notification":{"requires":["base","node","handlebars","button-plugin","moodle-core-notification-dialogue"]},"moodle-block_xp-rulepicker":{"requires":["base","node","handlebars","moodle-core-notification-dialogue"]},"moodle-block_xp-filters":{"requires":["base","node","moodle-core-dragdrop","moodle-block_xp-rulepicker"]},"moodle-filter_glossary-autolinker":{"requires":["base","node","io-base","json-parse","event-delegate","overlay","moodle-core-event","moodle-core-notification-alert","moodle-core-notification-exception","moodle-core-notification-ajaxexception"]},"moodle-filter_mathjaxloader-loader":{"requires":["moodle-core-event"]},"moodle-editor_atto-editor":{"requires":["node","transition","io","overlay","escape","event","event-simulate","event-custom","node-event-html5","node-event-simulate","yui-throttle","moodle-core-notification-dialogue","moodle-core-notification-confirm","moodle-editor_atto-rangy","handlebars","timers","querystring-stringify"]},"moodle-editor_atto-plugin":{"requires":["node","base","escape","event","event-outside","handlebars","event-custom","timers","moodle-editor_atto-menu"]},"moodle-editor_atto-menu":{"requires":["moodle-core-notification-dialogue","node","event","event-custom"]},"moodle-editor_atto-rangy":{"requires":[]},"moodle-format_grid-gridkeys":{"requires":["event-nav-keys"]},"moodle-report_eventlist-eventfilter":{"requires":["base","event","node","node-event-delegate","datatable","autocomplete","autocomplete-filters"]},"moodle-report_loglive-fetchlogs":{"requires":["base","event","node","io","node-event-delegate"]},"moodle-gradereport_grader-gradereporttable":{"requires":["base","node","event","handlebars","overlay","event-hover"]},"moodle-gradereport_history-userselector":{"requires":["escape","event-delegate","event-key","handlebars","io-base","json-parse","moodle-core-notification-dialogue"]},"moodle-tool_capability-search":{"requires":["base","node"]},"moodle-tool_lp-dragdrop-reorder":{"requires":["moodle-core-dragdrop"]},"moodle-tool_monitor-dropdown":{"requires":["base","event","node"]},"moodle-assignfeedback_editpdf-editor":{"requires":["base","event","node","io","graphics","json","event-move","event-resize","transition","querystring-stringify-simple","moodle-core-notification-dialog","moodle-core-notification-alert","moodle-core-notification-warning","moodle-core-notification-exception","moodle-core-notification-ajaxexception"]},"moodle-atto_accessibilitychecker-button":{"requires":["color-base","moodle-editor_atto-plugin"]},"moodle-atto_accessibilityhelper-button":{"requires":["moodle-editor_atto-plugin"]},"moodle-atto_align-button":{"requires":["moodle-editor_atto-plugin"]},"moodle-atto_bold-button":{"requires":["moodle-editor_atto-plugin"]},"moodle-atto_charmap-button":{"requires":["moodle-editor_atto-plugin"]},"moodle-atto_clear-button":{"requires":["moodle-editor_atto-plugin"]},"moodle-atto_collapse-button":{"requires":["moodle-editor_atto-plugin"]},"moodle-atto_count-button":{"requires":["io","json-parse","moodle-editor_atto-plugin"]},"moodle-atto_emoticon-button":{"requires":["moodle-editor_atto-plugin"]},"moodle-atto_equation-button":{"requires":["moodle-editor_atto-plugin","moodle-core-event","io","event-valuechange","tabview","array-extras"]},"moodle-atto_html-button":{"requires":["moodle-editor_atto-plugin","event-valuechange"]},"moodle-atto_image-button":{"requires":["moodle-editor_atto-plugin"]},"moodle-atto_indent-button":{"requires":["moodle-editor_atto-plugin"]},"moodle-atto_italic-button":{"requires":["moodle-editor_atto-plugin"]},"moodle-atto_link-button":{"requires":["moodle-editor_atto-plugin"]},"moodle-atto_managefiles-button":{"requires":["moodle-editor_atto-plugin"]},"moodle-atto_managefiles-usedfiles":{"requires":["node","escape"]},"moodle-atto_media-button":{"requires":["moodle-editor_atto-plugin","moodle-form-shortforms"]},"moodle-atto_noautolink-button":{"requires":["moodle-editor_atto-plugin"]},"moodle-atto_orderedlist-button":{"requires":["moodle-editor_atto-plugin"]},"moodle-atto_recordrtc-recording":{"requires":["moodle-atto_recordrtc-button"]},"moodle-atto_recordrtc-button":{"requires":["moodle-editor_atto-plugin","moodle-atto_recordrtc-recording"]},"moodle-atto_rtl-button":{"requires":["moodle-editor_atto-plugin"]},"moodle-atto_strike-button":{"requires":["moodle-editor_atto-plugin"]},"moodle-atto_subscript-button":{"requires":["moodle-editor_atto-plugin"]},"moodle-atto_superscript-button":{"requires":["moodle-editor_atto-plugin"]},"moodle-atto_table-button":{"requires":["moodle-editor_atto-plugin","moodle-editor_atto-menu","event","event-valuechange"]},"moodle-atto_title-button":{"requires":["moodle-editor_atto-plugin"]},"moodle-atto_underline-button":{"requires":["moodle-editor_atto-plugin"]},"moodle-atto_undo-button":{"requires":["moodle-editor_atto-plugin"]},"moodle-atto_unorderedlist-button":{"requires":["moodle-editor_atto-plugin"]},"moodle-atto_wordimport-button":{"requires":["moodle-editor_atto-plugin"]}}},"gallery":{"name":"gallery","base":"https:\/\/ummoodle.um.edu.mo\/lib\/yuilib\/gallery\/","combine":true,"comboBase":"https:\/\/ummoodle.um.edu.mo\/theme\/yui_combo.php?","ext":false,"root":"gallery\/1561944178\/","patterns":{"gallery-":{"group":"gallery"}}}},"modules":{"core_filepicker":{"name":"core_filepicker","fullpath":"https:\/\/ummoodle.um.edu.mo\/lib\/javascript.php\/1561944178\/repository\/filepicker.js","requires":["base","node","node-event-simulate","json","async-queue","io-base","io-upload-iframe","io-form","yui2-treeview","panel","cookie","datatable","datatable-sort","resize-plugin","dd-plugin","escape","moodle-core_filepicker","moodle-core-notification-dialogue"]},"core_comment":{"name":"core_comment","fullpath":"https:\/\/ummoodle.um.edu.mo\/lib\/javascript.php\/1561944178\/comment\/comment.js","requires":["base","io-base","node","json","yui2-animation","overlay","escape"]},"mathjax":{"name":"mathjax","fullpath":"https:\/\/cdnjs.cloudflare.com\/ajax\/libs\/mathjax\/2.7.2\/MathJax.js?delayStartupUntil=configured"}}};
M.yui.loader = {modules: {}};

//]]>
</script>

    <meta name="viewport" content="width=device-width, initial-scale=1.0">
</head>
<body  id="page-mod-resource-view" class="format-topics  path-mod path-mod-resource safari dir-ltr lang-en yui-skin-sam yui3-skin-sam ummoodle-um-edu-mo pagelayout-incourse course-81270 context-2705319 cmid-1396917 category-28 ">

<div id="page-wrapper">

    <div>
    <a class="sr-only sr-only-focusable" href="#maincontent">Skip to main content</a>
</div><script type="text/javascript" src="https://ummoodle.um.edu.mo/theme/yui_combo.php?rollup/3.17.2/yui-moodlesimple-min.js"></script><script type="text/javascript" src="https://ummoodle.um.edu.mo/lib/javascript.php/1561944178/lib/javascript-static.js"></script>
<script type="text/javascript">
//<![CDATA[
document.body.className += ' jsenabled';
//]]>
</script>


<style>
.que .formulation {font-size:14px; }
</style>

    <nav class="fixed-top navbar navbar-light bg-white navbar-expand moodle-has-zindex" aria-label="Site navigation">
    
            <div data-region="drawer-toggle" class="d-inline-block mr-3">
                <button aria-expanded="false" aria-controls="nav-drawer" type="button" class="btn nav-link float-sm-left mr-1 btn-light bg-gray" data-action="toggle-drawer" data-side="left" data-preference="drawer-open-nav"><i class="icon fa fa-bars fa-fw " aria-hidden="true"  ></i><span class="sr-only">Side panel</span></button>
            </div>
    
            <a href="https://ummoodle.um.edu.mo" class="navbar-brand 
                    d-none d-sm-inline
                    ">
                <span class="site-name d-none d-md-inline">UMMoodle</span>
            </a>
    
            <ul class="navbar-nav d-none d-md-flex">
                <!-- custom_menu -->
                <li class="nav-item">
    <a class="nav-item nav-link" href="https://elearning.um.edu.mo/my-course-status/" target="_blank" title="My Course Status">My Course Status</a>
</li><li class="dropdown nav-item">
    <a class="dropdown-toggle nav-link" id="drop-down-5e1687e6b3f015e1687e6b27db4" data-toggle="dropdown" aria-haspopup="true" aria-expanded="false" href="#" aria-controls="drop-down-menu-5e1687e6b3f015e1687e6b27db4">
        Quick Links
    </a>
    <div class="dropdown-menu" role="menu" id="drop-down-menu-5e1687e6b3f015e1687e6b27db4" aria-labelledby="drop-down-5e1687e6b3f015e1687e6b27db4">
                <a class="dropdown-item" role="menuitem" href="http://www.um.edu.mo" target="_blank" title="UM Home">UM Home</a>
                <a class="dropdown-item" role="menuitem" href="http://icto.um.edu.mo" target="_blank" title="ICTO Home">ICTO Home</a>
                <a class="dropdown-item" role="menuitem" href="http://elearning.um.edu.mo" target="_blank" title="eLearning Home">eLearning Home</a>
                <a class="dropdown-item" role="menuitem" href="http://faq.icto.um.edu.mo/category/ummoodle/" target="_blank" title="ICTO Knowledge Base">ICTO Knowledge Base</a>
                <a class="dropdown-item" role="menuitem" href="https://eportfolio.um.edu.mo" target="_blank" title="ePortfolio">ePortfolio</a>
                <a class="dropdown-item" role="menuitem" href="https://community.um.edu.mo" target="_blank" title="Community">Community</a>
                <a class="dropdown-item" role="menuitem" href="https://elearning.um.edu.mo/language-learning/" target="_blank" title="Portuguese Learning">Portuguese Learning</a>
                <a class="dropdown-item" role="menuitem" href="http://icto.um.edu.mo/software/microsoft-office-365-proplus/" target="_blank" title="Office 365 ProPlus">Office 365 ProPlus</a>
                <a class="dropdown-item" role="menuitem" href="http://library.um.edu.mo/html/e_resources/qualtrics.html" target="_blank" title="Qualtrics">Qualtrics</a>
                <a class="dropdown-item" role="menuitem" href="http://library.um.edu.mo/html/e_resources/turnitin_en.html" target="_blank" title="Turnitin">Turnitin</a>
                <a class="dropdown-item" role="menuitem" href="http://library.um.edu.mo/html/e_resources/veriguide_en.html" target="_blank" title="Veriguide">Veriguide</a>
    </div>
</li><li class="dropdown nav-item">
    <a class="dropdown-toggle nav-link" id="drop-down-5e1687e6b408b5e1687e6b27db5" data-toggle="dropdown" aria-haspopup="true" aria-expanded="false" href="#" aria-controls="drop-down-menu-5e1687e6b408b5e1687e6b27db5">
        English ‎(en)‎
    </a>
    <div class="dropdown-menu" role="menu" id="drop-down-menu-5e1687e6b408b5e1687e6b27db5" aria-labelledby="drop-down-5e1687e6b408b5e1687e6b27db5">
                <a class="dropdown-item" role="menuitem" href="https://ummoodle.um.edu.mo/mod/resource/view.php?id=1396917&amp;lang=en" title="English ‎(en)‎">English ‎(en)‎</a>
                <a class="dropdown-item" role="menuitem" href="https://ummoodle.um.edu.mo/mod/resource/view.php?id=1396917&amp;lang=pt" title="Português - Portugal ‎(pt)‎">Português - Portugal ‎(pt)‎</a>
                <a class="dropdown-item" role="menuitem" href="https://ummoodle.um.edu.mo/mod/resource/view.php?id=1396917&amp;lang=ja" title="日本語 ‎(ja)‎">日本語 ‎(ja)‎</a>
                <a class="dropdown-item" role="menuitem" href="https://ummoodle.um.edu.mo/mod/resource/view.php?id=1396917&amp;lang=zh_tw" title="正體中文 ‎(zh_tw)‎">正體中文 ‎(zh_tw)‎</a>
                <a class="dropdown-item" role="menuitem" href="https://ummoodle.um.edu.mo/mod/resource/view.php?id=1396917&amp;lang=zh_cn" title="简体中文 ‎(zh_cn)‎">简体中文 ‎(zh_cn)‎</a>
    </div>
</li>
                <!-- page_heading_menu -->
                
            </ul>
            <ul class="nav navbar-nav ml-auto">
                <div class="d-none d-lg-block">
                
            </div>
                <!-- navbar_plugin_output -->
                <li class="nav-item">
                <div class="popover-region collapsed popover-region-messages"
    id="nav-message-popover-container" data-userid="90978"
    data-region="popover-region">
    <div class="popover-region-toggle nav-link"
        data-region="popover-region-toggle"
        role="button"
        aria-controls="popover-region-container-5e1687e6b4d235e1687e6b27db6"
        aria-haspopup="true"
        aria-label="Show message window with no new messages"
        tabindex="0">
                <i class="icon fa fa-comment fa-fw "  title="Toggle messages menu" aria-label="Toggle messages menu"></i>
        <div class="count-container " data-region="count-container">1</div>

    </div>
    <div 
        id="popover-region-container-5e1687e6b4d235e1687e6b27db6"
        class="popover-region-container"
        data-region="popover-region-container"
        aria-expanded="false"
        aria-hidden="true"
        aria-label="Notification window"
        role="region">
        <div class="popover-region-header-container">
            <h3 class="popover-region-header-text" data-region="popover-region-header-text">Messages</h3>
            <div class="popover-region-header-actions" data-region="popover-region-header-actions">        <div class="newmessage-link">
            <a href="https://ummoodle.um.edu.mo/message/index.php?contactsfirst=1">New message
            </a>
        </div>
        <a class="mark-all-read-button"
           href="#"
           role="button"
           title="Mark all as read"
           data-action="mark-all-read">
            <span class="normal-icon"><i class="icon fa fa-check fa-fw "  title="Mark all as read" aria-label="Mark all as read"></i></span>
            <span class="loading-icon"><i class="icon fa fa-circle-o-notch fa-spin fa-fw "  title="Loading" aria-label="Loading"></i></span>
        </a>
        <a href="https://ummoodle.um.edu.mo/message/edit.php?id=90978"
           title="Message preferences">
            <i class="icon fa fa-cog fa-fw "  title="Message preferences" aria-label="Message preferences"></i>
        </a>
</div>
        </div>
        <div class="popover-region-content-container" data-region="popover-region-content-container">
            <div class="popover-region-content" data-region="popover-region-content">
                        <div class="messages" data-region="messages" role="log" aria-busy="false" aria-atomic="false" aria-relevant="additions"></div>
        <div class="empty-message" data-region="empty-message" tabindex="0">No messages</div>

            </div>
            <span class="loading-icon"><i class="icon fa fa-circle-o-notch fa-spin fa-fw "  title="Loading" aria-label="Loading"></i></span>
        </div>
                <a class="see-all-link"
                    href="https://ummoodle.um.edu.mo/message/index.php">
                    <div class="popover-region-footer-container">
                        <div class="popover-region-seeall-text">See all</div>
                    </div>
                </a>
    </div>
</div><div class="popover-region collapsed popover-region-notifications"
    id="nav-notification-popover-container" data-userid="90978"
    data-region="popover-region">
    <div class="popover-region-toggle nav-link"
        data-region="popover-region-toggle"
        role="button"
        aria-controls="popover-region-container-5e1687e6b5f735e1687e6b27db7"
        aria-haspopup="true"
        aria-label="Show notification window with no new notifications"
        tabindex="0">
                <i class="icon fa fa-bell fa-fw "  title="Toggle notifications menu" aria-label="Toggle notifications menu"></i>
        <div class="count-container hidden" data-region="count-container">0</div>

    </div>
    <div 
        id="popover-region-container-5e1687e6b5f735e1687e6b27db7"
        class="popover-region-container"
        data-region="popover-region-container"
        aria-expanded="false"
        aria-hidden="true"
        aria-label="Notification window"
        role="region">
        <div class="popover-region-header-container">
            <h3 class="popover-region-header-text" data-region="popover-region-header-text">Notifications</h3>
            <div class="popover-region-header-actions" data-region="popover-region-header-actions">        <a class="mark-all-read-button"
           href="#"
           title="Mark all as read"
           data-action="mark-all-read"
           role="button">
            <span class="normal-icon"><i class="icon fa fa-check fa-fw "  title="Mark all as read" aria-label="Mark all as read"></i></span>
            <span class="loading-icon"><i class="icon fa fa-circle-o-notch fa-spin fa-fw "  title="Loading" aria-label="Loading"></i></span>
        </a>
        <a href="https://ummoodle.um.edu.mo/message/notificationpreferences.php?userid=90978"
           title="Notification preferences">
            <i class="icon fa fa-cog fa-fw "  title="Notification preferences" aria-label="Notification preferences"></i>
        </a>
</div>
        </div>
        <div class="popover-region-content-container" data-region="popover-region-content-container">
            <div class="popover-region-content" data-region="popover-region-content">
                        <div class="all-notifications"
            data-region="all-notifications"
            role="log"
            aria-busy="false"
            aria-atomic="false"
            aria-relevant="additions"></div>
        <div class="empty-message" tabindex="0" data-region="empty-message">You have no notifications</div>

            </div>
            <span class="loading-icon"><i class="icon fa fa-circle-o-notch fa-spin fa-fw "  title="Loading" aria-label="Loading"></i></span>
        </div>
                <a class="see-all-link"
                    href="https://ummoodle.um.edu.mo/message/output/popup/notifications.php">
                    <div class="popover-region-footer-container">
                        <div class="popover-region-seeall-text">See all</div>
                    </div>
                </a>
    </div>
</div>
                </li>
                <!-- user_menu -->
                <li class="nav-item d-flex align-items-center">
                    <div class="usermenu"><div class="action-menu moodle-actionmenu nowrap-items d-inline" id="action-menu-1" data-enhance="moodle-core-actionmenu">

        <div class="menubar d-flex " id="action-menu-1-menubar" role="menubar">

            


                <div class="action-menu-trigger">
                    <div class="dropdown">
                        <a href="#" tabindex="0" class=" dropdown-toggle icon-no-margin" id="dropdown-1" aria-label="User menu" data-toggle="dropdown" role="button" aria-haspopup="true" aria-expanded="false" aria-controls="action-menu-1-menu">
                            
                            <span class="userbutton"><span class="usertext mr-1">Karl Chin (mb95508), CHIN IO LEONG</span><span class="avatars"><span class="avatar current"><img src="https://ummoodle.um.edu.mo/theme/image.php/boost/core/1565773330/u/f2" class="userpicture defaultuserpic" width="35" height="35" role="presentation" aria-hidden="true" /></span></span></span>
                                
                            <b class="caret"></b>
                        </a>
                            <div class="dropdown-menu dropdown-menu-right menu  align-tr-br" id="action-menu-1-menu" data-rel="menu-content" aria-labelledby="action-menu-toggle-1" role="menu" data-align="tr-br" id="dropdown-menu-1">
                                        <a href="https://ummoodle.um.edu.mo/my/" class="dropdown-item menu-action" role="menuitem" data-title="mymoodle,admin" aria-labelledby="actionmenuaction-1">
                                                <i class="icon fa fa-tachometer fa-fw " aria-hidden="true"  ></i>
                                            <span class="menu-action-text" id="actionmenuaction-1">
                                                Dashboard
                                            </span>
                                        </a>
                                        <div class="dropdown-divider" role="presentation"><span class="filler">&nbsp;</span></div>
                                        <a href="https://ummoodle.um.edu.mo/user/profile.php?id=90978" class="dropdown-item menu-action" role="menuitem" data-title="profile,moodle" aria-labelledby="actionmenuaction-2">
                                                <i class="icon fa fa-user fa-fw " aria-hidden="true"  ></i>
                                            <span class="menu-action-text" id="actionmenuaction-2">
                                                Profile
                                            </span>
                                        </a>
                                        <a href="https://ummoodle.um.edu.mo/grade/report/overview/index.php" class="dropdown-item menu-action" role="menuitem" data-title="grades,grades" aria-labelledby="actionmenuaction-3">
                                                <i class="icon fa fa-table fa-fw " aria-hidden="true"  ></i>
                                            <span class="menu-action-text" id="actionmenuaction-3">
                                                Grades
                                            </span>
                                        </a>
                                        <a href="https://ummoodle.um.edu.mo/message/index.php" class="dropdown-item menu-action" role="menuitem" data-title="messages,message" aria-labelledby="actionmenuaction-4">
                                                <i class="icon fa fa-comment fa-fw " aria-hidden="true"  ></i>
                                            <span class="menu-action-text" id="actionmenuaction-4">
                                                Messages
                                            </span>
                                        </a>
                                        <a href="https://ummoodle.um.edu.mo/user/preferences.php" class="dropdown-item menu-action" role="menuitem" data-title="preferences,moodle" aria-labelledby="actionmenuaction-5">
                                                <i class="icon fa fa-wrench fa-fw " aria-hidden="true"  ></i>
                                            <span class="menu-action-text" id="actionmenuaction-5">
                                                Preferences
                                            </span>
                                        </a>
                                        <div class="dropdown-divider" role="presentation"><span class="filler">&nbsp;</span></div>
                                        <a href="https://ummoodle.um.edu.mo/login/logout.php?sesskey=JdJwpu7etT" class="dropdown-item menu-action" role="menuitem" data-title="logout,moodle" aria-labelledby="actionmenuaction-6">
                                                <i class="icon fa fa-sign-out fa-fw " aria-hidden="true"  ></i>
                                            <span class="menu-action-text" id="actionmenuaction-6">
                                                Log out
                                            </span>
                                        </a>
                            </div>
                    </div>
                </div>

        </div>

</div></div>
                </li>
            </ul>
            <!-- search_box -->
    </nav>
    

    <div id="page" class="container-fluid">
        <header id="page-header" class="row">
    <div class="col-12 pt-3 pb-3">
        <div class="card">
            <div class="card-body">
                <div class="d-flex">
                    <div class="mr-auto">
                    <div class="page-context-header"><div class="page-header-headings"><h1>2019/2020 CISC7201 INTRODUCTION TO DATA SCIENCE PROGRAMMING</h1></div></div>
                    </div>

                </div>
                <div class="d-flex flex-wrap">
                    <div id="page-navbar">
                        <nav role="navigation" aria-label="Navigation bar">
    <ol class="breadcrumb">
                <li class="breadcrumb-item">
                    <a href="https://ummoodle.um.edu.mo/my/"  >Dashboard</a>
                </li>
                <li class="breadcrumb-item">My courses</li>
                <li class="breadcrumb-item">
                    <a href="https://ummoodle.um.edu.mo/course/view.php?id=81270"  title="2019/2020 CISC7201 INTRODUCTION TO DATA SCIENCE PROGRAMMING">2019/2020 CISC7201</a>
                </li>
                <li class="breadcrumb-item">
                    <a href="https://ummoodle.um.edu.mo/course/view.php?id=81270#section-1"  >Assignments</a>
                </li>
                <li class="breadcrumb-item">
                    <a href="https://ummoodle.um.edu.mo/mod/resource/view.php?id=1396917" aria-current="page" title="File">assignment04 11.21</a>
                </li>
    </ol>
</nav>
                    </div>
                    <div class="ml-auto d-flex">
                        
                    </div>
                    <div id="course-header">
                        
                    </div>
                </div>
            </div>
        </div>
    </div>
</header>

        <div id="page-content" class="row">
            <div id="region-main-box" class="col-12">
                <section id="region-main" >
                    <div class="card">
                        <div class="card-body">
                            <span class="notifications" id="user-notifications"></span>
                            <div role="main"><span id="maincontent"></span><h2>assignment04 11.21</h2><div class="resourceworkaround">Click <a href="https://ummoodle.um.edu.mo/pluginfile.php/2705319/mod_resource/content/0/assignment04_11.21.ipynb" onclick="this.target='_blank'">assignment04_11.21.ipynb</a> link to view the file.</div></div>
                            <div class="m-t-2 m-b-1">
<div class="row">
    <div class="col-md-4">        <div class="pull-left">
                <a href="https://ummoodle.um.edu.mo/mod/resource/view.php?id=1393902&forceview=1" id="prev-activity-link" class="btn btn-link"  title="assignment04 (updated: 15 Nov 2019)" >&#x25C4; assignment04 (updated: 15 Nov 2019)</a>

        </div>
</div>
    <div class="col-md-4">        <div class="mdl-align">
            <div class="urlselect">
    <form method="post" action="https://ummoodle.um.edu.mo/course/jumpto.php" class="form-inline" id="url_select_f5e1687e6b27db16">
        <input type="hidden" name="sesskey" value="JdJwpu7etT">
            <label for="jump-to-activity" class="sr-only">
                Jump to...
            </label>
        <select  id="jump-to-activity" class="custom-select urlselect" name="jump"
                 >
                    <option value="" selected>Jump to...</option>
                    <option value="/mod/forum/view.php?id=1281129&amp;forceview=1" >Announcements</option>
                    <option value="/mod/forum/view.php?id=1281132&amp;forceview=1" >Discussion Forum</option>
                    <option value="/mod/chat/view.php?id=1281135&amp;forceview=1" >Chat Room</option>
                    <option value="/mod/url/view.php?id=1334640&amp;forceview=1" >Piazza</option>
                    <option value="/mod/questionnaire/view.php?id=1380747&amp;forceview=1" >Mid-semester feedback questionnaire </option>
                    <option value="/mod/assign/view.php?id=1317213&amp;forceview=1" >Assignment01 - Create a GitHub Repository</option>
                    <option value="/mod/assign/view.php?id=1339479&amp;forceview=1" >Assignment02 - 1st Python Data Processing Assignment (Due: 17:00 25 Sep 2019)</option>
                    <option value="/mod/resource/view.php?id=1351461&amp;forceview=1" >assignment02</option>
                    <option value="/mod/url/view.php?id=1374093&amp;forceview=1" >Assignment02 Answer</option>
                    <option value="/mod/assign/view.php?id=1376550&amp;forceview=1" >Assignment03 - PageRank Calculation (Due: 2 Nov 2019)</option>
                    <option value="/mod/resource/view.php?id=1376553&amp;forceview=1" >assignment03 (updated: 14:24 1 Nov2019)</option>
                    <option value="/mod/assign/view.php?id=1376559&amp;forceview=1" >Assignment04 - Neural Network (Due: 27 Nov 2019)</option>
                    <option value="/mod/resource/view.php?id=1393902&amp;forceview=1" >assignment04 (updated: 15 Nov 2019)</option>
                    <option value="/mod/choicegroup/view.php?id=1395387&amp;forceview=1" >Grouping of Course Project (Due: 23 Nov 2019)</option>
                    <option value="/mod/resource/view.php?id=1397361&amp;forceview=1" >project requirements</option>
                    <option value="/mod/choice/view.php?id=1402146&amp;forceview=1" >Declare your unavailability for the group presentation (Due: 16:00 4 Dec 2019)</option>
                    <option value="/mod/assign/view.php?id=1403913&amp;forceview=1" >Report submission (Due: 18 Dec 2019)</option>
                    <option value="/mod/choice/view.php?id=1403916&amp;forceview=1" >Presentation schedule</option>
                    <option value="/mod/questionnaire/view.php?id=1404000&amp;forceview=1" >Questionnaire of Project (Due: 16 Dec 2019)</option>
                    <option value="/mod/url/view.php?id=1316985&amp;forceview=1" >Python 3.7.4 documentation</option>
                    <option value="/mod/url/view.php?id=1316991&amp;forceview=1" >Eclipse</option>
                    <option value="/mod/url/view.php?id=1317018&amp;forceview=1" >Anaconda</option>
                    <option value="/mod/url/view.php?id=1317021&amp;forceview=1" >Binder - Turn a Git repo into a collection of interactive notebooks</option>
                    <option value="/mod/url/view.php?id=1317144&amp;forceview=1" >Tutorial01 - Install Anaconda</option>
                    <option value="/mod/url/view.php?id=1317156&amp;forceview=1" >Tutorial02 - Install Jupyter Notebook</option>
                    <option value="/mod/url/view.php?id=1317030&amp;forceview=1" >Tutorial03 - GitHub HelloWorld!</option>
                    <option value="/mod/url/view.php?id=1317063&amp;forceview=1" >Tutorial04 - MyBinder</option>
                    <option value="/mod/url/view.php?id=1334823&amp;forceview=1" >Inclass Exercise 01 Python exercises</option>
                    <option value="/mod/url/view.php?id=1349499&amp;forceview=1" >Inclass01 Answer</option>
                    <option value="/mod/url/view.php?id=1365285&amp;forceview=1" >Inclass Exercise 02 - NumPy</option>
                    <option value="/mod/url/view.php?id=1374084&amp;forceview=1" >Inclass02 Answer</option>
                    <option value="/mod/url/view.php?id=1382946&amp;forceview=1" >Inclass Exercise 03 - Pandas 01</option>
                    <option value="/mod/url/view.php?id=1383381&amp;forceview=1" >Inclass Exercise 03 - Pandas 01 (ans)</option>
                    <option value="/mod/assign/view.php?id=1384698&amp;forceview=1" >Inclass submissions (04, 05, 06) - (Due: 10 Nov 2019)</option>
                    <option value="/mod/url/view.php?id=1382949&amp;forceview=1" >Inclass exercise 04 - Pandas 02</option>
                    <option value="/mod/url/view.php?id=1383378&amp;forceview=1" >Inclass Exercise 05 - Pandas 03</option>
                    <option value="/mod/url/view.php?id=1383384&amp;forceview=1" >Inclass Exercise 06 - Pandas 04</option>
                    <option value="/mod/assign/view.php?id=1391637&amp;forceview=1" >Inclass submission 07 - (Due: 17 Nov 2019) (refer to slide 07b and 07c)</option>
                    <option value="/mod/url/view.php?id=1391634&amp;forceview=1" >slide07c Neural network (exercise)</option>
                    <option value="/mod/resource/view.php?id=1399656&amp;forceview=1" >slide09 Exam (updated: 29 Nov 2019, 00:50 a.m.)</option>
                    <option value="/mod/resource/view.php?id=1399659&amp;forceview=1" >slide09 Scrapy</option>
                    <option value="/mod/url/view.php?id=1391625&amp;forceview=1" >Slide07a Introduction to Neural Network</option>
                    <option value="/mod/url/view.php?id=1391631&amp;forceview=1" >slide07b Neural network - Backpropagation</option>
                    <option value="/mod/url/view.php?id=1397139&amp;forceview=1" >slide07e Tensorflow for classification.ipynb</option>
                    <option value="/mod/resource/view.php?id=1397142&amp;forceview=1" >slide08 Recommender Systems</option>
                    <option value="/mod/url/view.php?id=1374072&amp;forceview=1" >Slide06 Pandas (updated: 14 Oct 2019)</option>
                    <option value="/mod/url/view.php?id=1374078&amp;forceview=1" >slide06a Pandas - Time Series Analysis with Pandas</option>
                    <option value="/mod/url/view.php?id=1383369&amp;forceview=1" >Slide06b Pandas - intro-to-pandas-1-Data-Structures</option>
                    <option value="/mod/url/view.php?id=1383372&amp;forceview=1" >Slide06c Pandas - intro-to-pandas-2-Working-With-DataFrames</option>
                    <option value="/mod/url/view.php?id=1383375&amp;forceview=1" >Slide06d Pandas - intro-to-pandas-3-Pandas-On-MovieLens</option>
                    <option value="/mod/url/view.php?id=1365273&amp;forceview=1" >Slide05 NumPy</option>
                    <option value="/mod/url/view.php?id=1365279&amp;forceview=1" >Slide05a NumPy - Efficiency</option>
                    <option value="/mod/url/view.php?id=1365282&amp;forceview=1" >Slide05a NumPy - Speeding up your code</option>
                    <option value="/mod/url/view.php?id=1374081&amp;forceview=1" >Slide05c NumPy - Intuitive Explanation of Personalized Page Rank </option>
                    <option value="/mod/url/view.php?id=1349511&amp;forceview=1" >Slide03a Exercises</option>
                    <option value="/mod/url/view.php?id=1349514&amp;forceview=1" >Slide04 Case Study - Analyzing a Survey</option>
                    <option value="/mod/resource/view.php?id=1349517&amp;forceview=1" >Slide04a anaconda</option>
                    <option value="/mod/url/view.php?id=1342650&amp;forceview=1" >Slide03 Crash course of Python - Part 2</option>
                    <option value="/mod/url/view.php?id=1333830&amp;forceview=1" >Slide02 Crash course of Python - Part 1</option>
                    <option value="/mod/page/view.php?id=1334586&amp;forceview=1" >How to open the notebook @ a local machine</option>
                    <option value="/mod/page/view.php?id=1334856&amp;forceview=1" >How to open the notebook @ MyBinder</option>
                    <option value="/mod/page/view.php?id=1334871&amp;forceview=1" >How to open the notebook @ Google's Colab</option>
                    <option value="/mod/resource/view.php?id=1316997&amp;forceview=1" >slide00 Course Introduction</option>
                    <option value="/mod/url/view.php?id=1317009&amp;forceview=1" >Slide01 Introduction to Data Science</option>
        </select>
            <noscript>
                <input type="submit" class="btn btn-secondary" value="Go">
            </noscript>
    </form>
</div>

        </div>
</div>
    <div class="col-md-4">        <div class="pull-right">
                <a href="https://ummoodle.um.edu.mo/mod/choicegroup/view.php?id=1395387&forceview=1" id="next-activity-link" class="btn btn-link"  title="Grouping of Course Project (Due: 23 Nov 2019)" >Grouping of Course Project (Due: 23 Nov 2019) &#x25BA;</a>

        </div>
</div>
</div>
</div>
                            
                        </div>
                    </div>
                </section>
            </div>
        </div>
    </div>
    <div id="nav-drawer" data-region="drawer" class="d-print-none moodle-has-zindex closed" aria-hidden="true" tabindex="-1">
        <nav class="list-group">
            <a class="list-group-item list-group-item-action " href="https://ummoodle.um.edu.mo/course/view.php?id=81270" data-key="coursehome" data-isexpandable="0" data-indent="0" data-showdivider="0" data-type="60" data-nodetype="0" data-collapse="0" data-forceopen="0" data-isactive="0" data-hidden="0" data-preceedwithhr="0" >
                <div class="m-l-0">
                    <div class="media">
                        <span class="media-left">
                            <i class="icon fa fa-graduation-cap fa-fw " aria-hidden="true"  ></i>
                        </span>
                        <span class="media-body ">2019/2020 CISC7201</span>
                    </div>
                </div>
            </a>
            <a class="list-group-item list-group-item-action " href="https://ummoodle.um.edu.mo/user/index.php?id=81270" data-key="participants" data-isexpandable="0" data-indent="0" data-showdivider="0" data-type="90" data-nodetype="1" data-collapse="0" data-forceopen="0" data-isactive="0" data-hidden="0" data-preceedwithhr="0" data-parent-key="81270">
                <div class="m-l-0">
                    <div class="media">
                        <span class="media-left">
                            <i class="icon fa fa-users fa-fw " aria-hidden="true"  ></i>
                        </span>
                        <span class="media-body ">Participants</span>
                    </div>
                </div>
            </a>
            <a class="list-group-item list-group-item-action " href="https://ummoodle.um.edu.mo/badges/view.php?type=2&amp;id=81270" data-key="badgesview" data-isexpandable="0" data-indent="0" data-showdivider="0" data-type="70" data-nodetype="0" data-collapse="0" data-forceopen="0" data-isactive="0" data-hidden="0" data-preceedwithhr="0" data-parent-key="81270">
                <div class="m-l-0">
                    <div class="media">
                        <span class="media-left">
                            <i class="icon fa fa-shield fa-fw " aria-hidden="true"  ></i>
                        </span>
                        <span class="media-body ">Badges</span>
                    </div>
                </div>
            </a>
            <a class="list-group-item list-group-item-action " href="https://ummoodle.um.edu.mo/admin/tool/lp/coursecompetencies.php?courseid=81270" data-key="competencies" data-isexpandable="0" data-indent="0" data-showdivider="0" data-type="70" data-nodetype="0" data-collapse="0" data-forceopen="0" data-isactive="0" data-hidden="0" data-preceedwithhr="0" data-parent-key="81270">
                <div class="m-l-0">
                    <div class="media">
                        <span class="media-left">
                            <i class="icon fa fa-check-square-o fa-fw " aria-hidden="true"  ></i>
                        </span>
                        <span class="media-body ">Competencies</span>
                    </div>
                </div>
            </a>
            <a class="list-group-item list-group-item-action " href="https://ummoodle.um.edu.mo/grade/report/index.php?id=81270" data-key="grades" data-isexpandable="0" data-indent="0" data-showdivider="0" data-type="70" data-nodetype="0" data-collapse="0" data-forceopen="0" data-isactive="0" data-hidden="0" data-preceedwithhr="0" data-parent-key="81270">
                <div class="m-l-0">
                    <div class="media">
                        <span class="media-left">
                            <i class="icon fa fa-table fa-fw " aria-hidden="true"  ></i>
                        </span>
                        <span class="media-body ">Grades</span>
                    </div>
                </div>
            </a>
            <a class="list-group-item list-group-item-action " href="https://ummoodle.um.edu.mo/course/view.php?id=81270#section-0" data-key="1078197" data-isexpandable="0" data-indent="0" data-showdivider="0" data-type="30" data-nodetype="1" data-collapse="0" data-forceopen="0" data-isactive="0" data-hidden="0" data-preceedwithhr="0" data-parent-key="81270">
                <div class="m-l-0">
                    <div class="media">
                        <span class="media-left">
                            <i class="icon fa fa-folder-o fa-fw " aria-hidden="true"  ></i>
                        </span>
                        <span class="media-body ">General</span>
                    </div>
                </div>
            </a>
            <a class="list-group-item list-group-item-action active" href="https://ummoodle.um.edu.mo/course/view.php?id=81270#section-1" data-key="1078200" data-isexpandable="0" data-indent="0" data-showdivider="0" data-type="30" data-nodetype="1" data-collapse="0" data-forceopen="1" data-isactive="1" data-hidden="0" data-preceedwithhr="0" data-parent-key="81270">
                <div class="m-l-0">
                    <div class="media">
                        <span class="media-left">
                            <i class="icon fa fa-folder-o fa-fw " aria-hidden="true"  ></i>
                        </span>
                        <span class="media-body font-weight-bold">Assignments</span>
                    </div>
                </div>
            </a>
            <a class="list-group-item list-group-item-action " href="https://ummoodle.um.edu.mo/course/view.php?id=81270#section-2" data-key="1078203" data-isexpandable="0" data-indent="0" data-showdivider="0" data-type="30" data-nodetype="1" data-collapse="0" data-forceopen="0" data-isactive="0" data-hidden="0" data-preceedwithhr="0" data-parent-key="81270">
                <div class="m-l-0">
                    <div class="media">
                        <span class="media-left">
                            <i class="icon fa fa-folder-o fa-fw " aria-hidden="true"  ></i>
                        </span>
                        <span class="media-body ">Projects</span>
                    </div>
                </div>
            </a>
            <a class="list-group-item list-group-item-action " href="https://ummoodle.um.edu.mo/course/view.php?id=81270#section-3" data-key="1078206" data-isexpandable="0" data-indent="0" data-showdivider="0" data-type="30" data-nodetype="1" data-collapse="0" data-forceopen="0" data-isactive="0" data-hidden="0" data-preceedwithhr="0" data-parent-key="81270">
                <div class="m-l-0">
                    <div class="media">
                        <span class="media-left">
                            <i class="icon fa fa-folder-o fa-fw " aria-hidden="true"  ></i>
                        </span>
                        <span class="media-body ">Programming online resources </span>
                    </div>
                </div>
            </a>
            <a class="list-group-item list-group-item-action " href="https://ummoodle.um.edu.mo/course/view.php?id=81270#section-4" data-key="1078212" data-isexpandable="0" data-indent="0" data-showdivider="0" data-type="30" data-nodetype="1" data-collapse="0" data-forceopen="0" data-isactive="0" data-hidden="0" data-preceedwithhr="0" data-parent-key="81270">
                <div class="m-l-0">
                    <div class="media">
                        <span class="media-left">
                            <i class="icon fa fa-folder-o fa-fw " aria-hidden="true"  ></i>
                        </span>
                        <span class="media-body ">Tutorials</span>
                    </div>
                </div>
            </a>
            <a class="list-group-item list-group-item-action " href="https://ummoodle.um.edu.mo/course/view.php?id=81270#section-5" data-key="1124148" data-isexpandable="0" data-indent="0" data-showdivider="0" data-type="30" data-nodetype="1" data-collapse="0" data-forceopen="0" data-isactive="0" data-hidden="0" data-preceedwithhr="0" data-parent-key="81270">
                <div class="m-l-0">
                    <div class="media">
                        <span class="media-left">
                            <i class="icon fa fa-folder-o fa-fw " aria-hidden="true"  ></i>
                        </span>
                        <span class="media-body ">Inclass Exercises</span>
                    </div>
                </div>
            </a>
            <a class="list-group-item list-group-item-action " href="https://ummoodle.um.edu.mo/course/view.php?id=81270#section-6" data-key="1139922" data-isexpandable="0" data-indent="0" data-showdivider="0" data-type="30" data-nodetype="1" data-collapse="0" data-forceopen="0" data-isactive="0" data-hidden="0" data-preceedwithhr="0" data-parent-key="81270">
                <div class="m-l-0">
                    <div class="media">
                        <span class="media-left">
                            <i class="icon fa fa-folder-o fa-fw " aria-hidden="true"  ></i>
                        </span>
                        <span class="media-body ">(Week 12) AlibabaCloud Workshop &amp; Exam Scope</span>
                    </div>
                </div>
            </a>
            <a class="list-group-item list-group-item-action " href="https://ummoodle.um.edu.mo/course/view.php?id=81270#section-7" data-key="1138551" data-isexpandable="0" data-indent="0" data-showdivider="0" data-type="30" data-nodetype="1" data-collapse="0" data-forceopen="0" data-isactive="0" data-hidden="0" data-preceedwithhr="0" data-parent-key="81270">
                <div class="m-l-0">
                    <div class="media">
                        <span class="media-left">
                            <i class="icon fa fa-folder-o fa-fw " aria-hidden="true"  ></i>
                        </span>
                        <span class="media-body ">(Week 10 &amp; 11) Neural Network &amp; Recommender Systems</span>
                    </div>
                </div>
            </a>
            <a class="list-group-item list-group-item-action " href="https://ummoodle.um.edu.mo/course/view.php?id=81270#section-8" data-key="1134507" data-isexpandable="0" data-indent="0" data-showdivider="0" data-type="30" data-nodetype="1" data-collapse="0" data-forceopen="0" data-isactive="0" data-hidden="0" data-preceedwithhr="0" data-parent-key="81270">
                <div class="m-l-0">
                    <div class="media">
                        <span class="media-left">
                            <i class="icon fa fa-folder-o fa-fw " aria-hidden="true"  ></i>
                        </span>
                        <span class="media-body ">(Week 7, 8, and 9) Pandas</span>
                    </div>
                </div>
            </a>
            <a class="list-group-item list-group-item-action " href="https://ummoodle.um.edu.mo/course/view.php?id=81270#section-9" data-key="1131504" data-isexpandable="0" data-indent="0" data-showdivider="0" data-type="30" data-nodetype="1" data-collapse="0" data-forceopen="0" data-isactive="0" data-hidden="0" data-preceedwithhr="0" data-parent-key="81270">
                <div class="m-l-0">
                    <div class="media">
                        <span class="media-left">
                            <i class="icon fa fa-folder-o fa-fw " aria-hidden="true"  ></i>
                        </span>
                        <span class="media-body ">(Week 5 &amp; 6) NumPy</span>
                    </div>
                </div>
            </a>
            <a class="list-group-item list-group-item-action " href="https://ummoodle.um.edu.mo/course/view.php?id=81270#section-10" data-key="1126656" data-isexpandable="0" data-indent="0" data-showdivider="0" data-type="30" data-nodetype="1" data-collapse="0" data-forceopen="0" data-isactive="0" data-hidden="0" data-preceedwithhr="0" data-parent-key="81270">
                <div class="m-l-0">
                    <div class="media">
                        <span class="media-left">
                            <i class="icon fa fa-folder-o fa-fw " aria-hidden="true"  ></i>
                        </span>
                        <span class="media-body ">(Week 4) A Crash Course of Python Programming III</span>
                    </div>
                </div>
            </a>
            <a class="list-group-item list-group-item-action " href="https://ummoodle.um.edu.mo/course/view.php?id=81270#section-11" data-key="1125456" data-isexpandable="0" data-indent="0" data-showdivider="0" data-type="30" data-nodetype="1" data-collapse="0" data-forceopen="0" data-isactive="0" data-hidden="0" data-preceedwithhr="0" data-parent-key="81270">
                <div class="m-l-0">
                    <div class="media">
                        <span class="media-left">
                            <i class="icon fa fa-folder-o fa-fw " aria-hidden="true"  ></i>
                        </span>
                        <span class="media-body ">(Week 3) A Crash Course of Python Programming II</span>
                    </div>
                </div>
            </a>
            <a class="list-group-item list-group-item-action " href="https://ummoodle.um.edu.mo/course/view.php?id=81270#section-12" data-key="1124034" data-isexpandable="0" data-indent="0" data-showdivider="0" data-type="30" data-nodetype="1" data-collapse="0" data-forceopen="0" data-isactive="0" data-hidden="0" data-preceedwithhr="0" data-parent-key="81270">
                <div class="m-l-0">
                    <div class="media">
                        <span class="media-left">
                            <i class="icon fa fa-folder-o fa-fw " aria-hidden="true"  ></i>
                        </span>
                        <span class="media-body ">(Week 2) A Crash Course of Python Programming</span>
                    </div>
                </div>
            </a>
            <a class="list-group-item list-group-item-action " href="https://ummoodle.um.edu.mo/course/view.php?id=81270#section-13" data-key="1078209" data-isexpandable="0" data-indent="0" data-showdivider="0" data-type="30" data-nodetype="1" data-collapse="0" data-forceopen="0" data-isactive="0" data-hidden="0" data-preceedwithhr="0" data-parent-key="81270">
                <div class="m-l-0">
                    <div class="media">
                        <span class="media-left">
                            <i class="icon fa fa-folder-o fa-fw " aria-hidden="true"  ></i>
                        </span>
                        <span class="media-body ">(Week 1) Introduction to Data Science</span>
                    </div>
                </div>
            </a>
        </nav>
        <nav class="list-group m-t-1">
            <a class="list-group-item list-group-item-action " href="https://ummoodle.um.edu.mo/my/" data-key="myhome" data-isexpandable="0" data-indent="0" data-showdivider="1" data-type="1" data-nodetype="1" data-collapse="0" data-forceopen="1" data-isactive="0" data-hidden="0" data-preceedwithhr="0" >
                <div class="m-l-0">
                    <div class="media">
                        <span class="media-left">
                            <i class="icon fa fa-tachometer fa-fw " aria-hidden="true"  ></i>
                        </span>
                        <span class="media-body ">Dashboard</span>
                    </div>
                </div>
            </a>
            <a class="list-group-item list-group-item-action " href="https://ummoodle.um.edu.mo/?redirect=0" data-key="home" data-isexpandable="0" data-indent="0" data-showdivider="0" data-type="70" data-nodetype="0" data-collapse="0" data-forceopen="0" data-isactive="0" data-hidden="0" data-preceedwithhr="0" data-parent-key="myhome">
                <div class="m-l-0">
                    <div class="media">
                        <span class="media-left">
                            <i class="icon fa fa-home fa-fw " aria-hidden="true"  ></i>
                        </span>
                        <span class="media-body ">Site home</span>
                    </div>
                </div>
            </a>
            <a class="list-group-item list-group-item-action " href="https://ummoodle.um.edu.mo/calendar/view.php?view=month&amp;course=81270" data-key="calendar" data-isexpandable="0" data-indent="0" data-showdivider="0" data-type="60" data-nodetype="0" data-collapse="0" data-forceopen="0" data-isactive="0" data-hidden="0" data-preceedwithhr="0" data-parent-key="1">
                <div class="m-l-0">
                    <div class="media">
                        <span class="media-left">
                            <i class="icon fa fa-calendar fa-fw " aria-hidden="true"  ></i>
                        </span>
                        <span class="media-body ">Calendar</span>
                    </div>
                </div>
            </a>
            <a class="list-group-item list-group-item-action " href="https://ummoodle.um.edu.mo/user/files.php" data-key="privatefiles" data-isexpandable="0" data-indent="0" data-showdivider="0" data-type="70" data-nodetype="0" data-collapse="0" data-forceopen="0" data-isactive="0" data-hidden="0" data-preceedwithhr="0" data-parent-key="1">
                <div class="m-l-0">
                    <div class="media">
                        <span class="media-left">
                            <i class="icon fa fa-file-o fa-fw " aria-hidden="true"  ></i>
                        </span>
                        <span class="media-body ">Private files</span>
                    </div>
                </div>
            </a>
            <div class="list-group-item" data-key="mycourses" data-isexpandable="1" data-indent="0" data-showdivider="0" data-type="0" data-nodetype="1" data-collapse="0" data-forceopen="1" data-isactive="0" data-hidden="0" data-preceedwithhr="0" data-parent-key="myhome">
                <div class="m-l-0">
                    <div class="media">
                        <span class="media-left">
                            <i class="icon fa fa-graduation-cap fa-fw " aria-hidden="true"  ></i>
                        </span>
                        <span class="media-body">My courses</span>
                    </div>
                </div>
            </div>
            <a class="list-group-item list-group-item-action " href="https://ummoodle.um.edu.mo/course/view.php?id=39474" data-key="39474" data-isexpandable="1" data-indent="1" data-showdivider="0" data-type="20" data-nodetype="1" data-collapse="0" data-forceopen="0" data-isactive="0" data-hidden="0" data-preceedwithhr="0" data-parent-key="mycourses">
                <div class="m-l-1">
                    <div class="media">
                        <span class="media-left">
                            <i class="icon fa fa-graduation-cap fa-fw " aria-hidden="true"  ></i>
                        </span>
                        <span class="media-body ">FST-Lab-Safety</span>
                    </div>
                </div>
            </a>
            <a class="list-group-item list-group-item-action " href="https://ummoodle.um.edu.mo/course/view.php?id=113" data-key="113" data-isexpandable="1" data-indent="1" data-showdivider="0" data-type="20" data-nodetype="1" data-collapse="0" data-forceopen="0" data-isactive="0" data-hidden="0" data-preceedwithhr="0" data-parent-key="mycourses">
                <div class="m-l-1">
                    <div class="media">
                        <span class="media-left">
                            <i class="icon fa fa-graduation-cap fa-fw " aria-hidden="true"  ></i>
                        </span>
                        <span class="media-body ">ELC Independent Learning</span>
                    </div>
                </div>
            </a>
            <a class="list-group-item list-group-item-action " href="https://ummoodle.um.edu.mo/course/view.php?id=5" data-key="5" data-isexpandable="1" data-indent="1" data-showdivider="0" data-type="20" data-nodetype="1" data-collapse="0" data-forceopen="0" data-isactive="0" data-hidden="0" data-preceedwithhr="0" data-parent-key="mycourses">
                <div class="m-l-1">
                    <div class="media">
                        <span class="media-left">
                            <i class="icon fa fa-graduation-cap fa-fw " aria-hidden="true"  ></i>
                        </span>
                        <span class="media-body ">Student Forum</span>
                    </div>
                </div>
            </a>
            <a class="list-group-item list-group-item-action " href="https://ummoodle.um.edu.mo/course/view.php?id=85635" data-key="85635" data-isexpandable="1" data-indent="1" data-showdivider="0" data-type="20" data-nodetype="1" data-collapse="0" data-forceopen="0" data-isactive="0" data-hidden="0" data-preceedwithhr="0" data-parent-key="mycourses">
                <div class="m-l-1">
                    <div class="media">
                        <span class="media-left">
                            <i class="icon fa fa-graduation-cap fa-fw " aria-hidden="true"  ></i>
                        </span>
                        <span class="media-body ">CDS</span>
                    </div>
                </div>
            </a>
            <a class="list-group-item list-group-item-action " href="https://ummoodle.um.edu.mo/course/view.php?id=91308" data-key="91308" data-isexpandable="1" data-indent="1" data-showdivider="0" data-type="20" data-nodetype="1" data-collapse="0" data-forceopen="0" data-isactive="0" data-hidden="0" data-preceedwithhr="0" data-parent-key="mycourses">
                <div class="m-l-1">
                    <div class="media">
                        <span class="media-left">
                            <i class="icon fa fa-graduation-cap fa-fw " aria-hidden="true"  ></i>
                        </span>
                        <span class="media-body ">19-2-CISC7202-001_58871</span>
                    </div>
                </div>
            </a>
            <a class="list-group-item list-group-item-action " href="https://ummoodle.um.edu.mo/course/view.php?id=91104" data-key="91104" data-isexpandable="1" data-indent="1" data-showdivider="0" data-type="20" data-nodetype="1" data-collapse="0" data-forceopen="0" data-isactive="0" data-hidden="0" data-preceedwithhr="0" data-parent-key="mycourses">
                <div class="m-l-1">
                    <div class="media">
                        <span class="media-left">
                            <i class="icon fa fa-graduation-cap fa-fw " aria-hidden="true"  ></i>
                        </span>
                        <span class="media-body ">19-2-CISC7203-001_58991</span>
                    </div>
                </div>
            </a>
        </nav>
    </div>
</div>

<footer id="page-footer" class="py-3 bg-dark text-light">
    <div class="container">
        <div id="course-footer"></div>


        <div class="logininfo">You are logged in as <a href="https://ummoodle.um.edu.mo/user/profile.php?id=90978" title="View profile">Karl Chin (mb95508), CHIN IO LEONG</a> (<a href="https://ummoodle.um.edu.mo/login/logout.php?sesskey=JdJwpu7etT">Log out</a>)</div>
        <div class="tool_usertours-resettourcontainer"></div>
        
        <nav class="nav navbar-nav d-md-none">
                <ul class="list-unstyled pt-3">
                                    <li><a href="https://elearning.um.edu.mo/my-course-status/" target="_blank" title="My Course Status">My Course Status</a></li>
                                    <li>Quick Links</li>
                                <li>
                                    <ul class="list-unstyled ml-3">
                                                        <li><a href="http://www.um.edu.mo" target="_blank" title="UM Home">UM Home</a></li>
                                                        <li><a href="http://icto.um.edu.mo" target="_blank" title="ICTO Home">ICTO Home</a></li>
                                                        <li><a href="http://elearning.um.edu.mo" target="_blank" title="eLearning Home">eLearning Home</a></li>
                                                        <li><a href="http://faq.icto.um.edu.mo/category/ummoodle/" target="_blank" title="ICTO Knowledge Base">ICTO Knowledge Base</a></li>
                                                        <li><a href="https://eportfolio.um.edu.mo" target="_blank" title="ePortfolio">ePortfolio</a></li>
                                                        <li><a href="https://community.um.edu.mo" target="_blank" title="Community">Community</a></li>
                                                        <li><a href="https://elearning.um.edu.mo/language-learning/" target="_blank" title="Portuguese Learning">Portuguese Learning</a></li>
                                                        <li><a href="http://icto.um.edu.mo/software/microsoft-office-365-proplus/" target="_blank" title="Office 365 ProPlus">Office 365 ProPlus</a></li>
                                                        <li><a href="http://library.um.edu.mo/html/e_resources/qualtrics.html" target="_blank" title="Qualtrics">Qualtrics</a></li>
                                                        <li><a href="http://library.um.edu.mo/html/e_resources/turnitin_en.html" target="_blank" title="Turnitin">Turnitin</a></li>
                                                        <li><a href="http://library.um.edu.mo/html/e_resources/veriguide_en.html" target="_blank" title="Veriguide">Veriguide</a></li>
                                    </ul>
                                </li>
                                    <li><a href="#" title="Language">English ‎(en)‎</a></li>
                                <li>
                                    <ul class="list-unstyled ml-3">
                                                        <li><a href="https://ummoodle.um.edu.mo/mod/resource/view.php?id=1396917&amp;lang=en" title="English ‎(en)‎">English ‎(en)‎</a></li>
                                                        <li><a href="https://ummoodle.um.edu.mo/mod/resource/view.php?id=1396917&amp;lang=pt" title="Português - Portugal ‎(pt)‎">Português - Portugal ‎(pt)‎</a></li>
                                                        <li><a href="https://ummoodle.um.edu.mo/mod/resource/view.php?id=1396917&amp;lang=ja" title="日本語 ‎(ja)‎">日本語 ‎(ja)‎</a></li>
                                                        <li><a href="https://ummoodle.um.edu.mo/mod/resource/view.php?id=1396917&amp;lang=zh_tw" title="正體中文 ‎(zh_tw)‎">正體中文 ‎(zh_tw)‎</a></li>
                                                        <li><a href="https://ummoodle.um.edu.mo/mod/resource/view.php?id=1396917&amp;lang=zh_cn" title="简体中文 ‎(zh_cn)‎">简体中文 ‎(zh_cn)‎</a></li>
                                    </ul>
                                </li>
                </ul>
        </nav>
        <div class="tool_dataprivacy"><a href="https://ummoodle.um.edu.mo/admin/tool/dataprivacy/summary.php">Data retention summary</a></div><a href="https://download.moodle.org/mobile?version=2018051706.04&amp;lang=en&amp;iosappid=633359593&amp;androidappid=com.moodle.moodlemobile">Get the mobile app</a>
        <script type="text/javascript">
//<![CDATA[
var require = {
    baseUrl : 'https://ummoodle.um.edu.mo/lib/requirejs.php/1561944178/',
    // We only support AMD modules with an explicit define() statement.
    enforceDefine: true,
    skipDataMain: true,
    waitSeconds : 0,

    paths: {
        jquery: 'https://ummoodle.um.edu.mo/lib/javascript.php/1561944178/lib/jquery/jquery-3.2.1.min',
        jqueryui: 'https://ummoodle.um.edu.mo/lib/javascript.php/1561944178/lib/jquery/ui-1.12.1/jquery-ui.min',
        jqueryprivate: 'https://ummoodle.um.edu.mo/lib/javascript.php/1561944178/lib/requirejs/jquery-private'
    },

    // Custom jquery config map.
    map: {
      // '*' means all modules will get 'jqueryprivate'
      // for their 'jquery' dependency.
      '*': { jquery: 'jqueryprivate' },
      // Stub module for 'process'. This is a workaround for a bug in MathJax (see MDL-60458).
      '*': { process: 'core/first' },

      // 'jquery-private' wants the real jQuery module
      // though. If this line was not here, there would
      // be an unresolvable cyclic dependency.
      jqueryprivate: { jquery: 'jquery' }
    }
};

//]]>
</script>
<script type="text/javascript" src="https://ummoodle.um.edu.mo/lib/javascript.php/1561944178/lib/requirejs/require.min.js"></script>
<script type="text/javascript">
//<![CDATA[
require(['core/first'], function() {
;
require(["media_videojs/loader"], function(loader) {
    loader.setUp(function(videojs) {
        videojs.options.flash.swf = "https://ummoodle.um.edu.mo/media/player/videojs/videojs/video-js.swf";
videojs.addLanguage("en",{
 "Audio Player": "Audio Player",
 "Video Player": "Video Player",
 "Play": "Play",
 "Pause": "Pause",
 "Replay": "Replay",
 "Current Time": "Current Time",
 "Duration Time": "Duration Time",
 "Remaining Time": "Remaining Time",
 "Stream Type": "Stream Type",
 "LIVE": "LIVE",
 "Loaded": "Loaded",
 "Progress": "Progress",
 "Progress Bar": "Progress Bar",
 "progress bar timing: currentTime={1} duration={2}": "{1} of {2}",
 "Fullscreen": "Fullscreen",
 "Non-Fullscreen": "Non-Fullscreen",
 "Mute": "Mute",
 "Unmute": "Unmute",
 "Playback Rate": "Playback Rate",
 "Subtitles": "Subtitles",
 "subtitles off": "subtitles off",
 "Captions": "Captions",
 "captions off": "captions off",
 "Chapters": "Chapters",
 "Descriptions": "Descriptions",
 "descriptions off": "descriptions off",
 "Audio Track": "Audio Track",
 "Volume Level": "Volume Level",
 "You aborted the media playback": "You aborted the media playback",
 "A network error caused the media download to fail part-way.": "A network error caused the media download to fail part-way.",
 "The media could not be loaded, either because the server or network failed or because the format is not supported.": "The media could not be loaded, either because the server or network failed or because the format is not supported.",
 "The media playback was aborted due to a corruption problem or because the media used features your browser did not support.": "The media playback was aborted due to a corruption problem or because the media used features your browser did not support.",
 "No compatible source was found for this media.": "No compatible source was found for this media.",
 "The media is encrypted and we do not have the keys to decrypt it.": "The media is encrypted and we do not have the keys to decrypt it.",
 "Play Video": "Play Video",
 "Close": "Close",
 "Close Modal Dialog": "Close Modal Dialog",
 "Modal Window": "Modal Window",
 "This is a modal window": "This is a modal window",
 "This modal can be closed by pressing the Escape key or activating the close button.": "This modal can be closed by pressing the Escape key or activating the close button.",
 ", opens captions settings dialog": ", opens captions settings dialog",
 ", opens subtitles settings dialog": ", opens subtitles settings dialog",
 ", opens descriptions settings dialog": ", opens descriptions settings dialog",
 ", selected": ", selected",
 "captions settings": "captions settings",
 "subtitles settings": "subititles settings",
 "descriptions settings": "descriptions settings",
 "Text": "Text",
 "White": "White",
 "Black": "Black",
 "Red": "Red",
 "Green": "Green",
 "Blue": "Blue",
 "Yellow": "Yellow",
 "Magenta": "Magenta",
 "Cyan": "Cyan",
 "Background": "Background",
 "Window": "Window",
 "Transparent": "Transparent",
 "Semi-Transparent": "Semi-Transparent",
 "Opaque": "Opaque",
 "Font Size": "Font Size",
 "Text Edge Style": "Text Edge Style",
 "None": "None",
 "Raised": "Raised",
 "Depressed": "Depressed",
 "Uniform": "Uniform",
 "Dropshadow": "Dropshadow",
 "Font Family": "Font Family",
 "Proportional Sans-Serif": "Proportional Sans-Serif",
 "Monospace Sans-Serif": "Monospace Sans-Serif",
 "Proportional Serif": "Proportional Serif",
 "Monospace Serif": "Monospace Serif",
 "Casual": "Casual",
 "Script": "Script",
 "Small Caps": "Small Caps",
 "Reset": "Reset",
 "restore all settings to the default values": "restore all settings to the default values",
 "Done": "Done",
 "Caption Settings Dialog": "Caption Settings Dialog",
 "Beginning of dialog window. Escape will cancel and close the window.": "Beginning of dialog window. Escape will cancel and close the window.",
 "End of dialog window.": "End of dialog window."
});

    });
});;
require.config({ paths: {'jwplayer': 'https://ssl.p.jwpcdn.com/player/v/7.12.13/jwplayer'}});
require.config({ config: {'media_jwplayer/jwplayer': { licensekey: 'Qg53blm/4jjpuF/ldLL7QCCLQchr36NYQppuIPAFxJs='}}});
function legacy_activity_onclick_handler_1(e) { e.halt(); window.open('https://ummoodle.um.edu.mo/mod/resource/view.php?id=1351461&redirect=1'); return false; };
function legacy_activity_onclick_handler_2(e) { e.halt(); window.open('https://ummoodle.um.edu.mo/mod/resource/view.php?id=1376553&redirect=1'); return false; };
function legacy_activity_onclick_handler_3(e) { e.halt(); window.open('https://ummoodle.um.edu.mo/mod/resource/view.php?id=1376562&redirect=1'); return false; };
function legacy_activity_onclick_handler_4(e) { e.halt(); window.open('https://ummoodle.um.edu.mo/mod/resource/view.php?id=1393902&redirect=1'); return false; };
function legacy_activity_onclick_handler_5(e) { e.halt(); window.open('https://ummoodle.um.edu.mo/mod/resource/view.php?id=1396917&redirect=1'); return false; };

require(['jquery'], function($) {
    $('#single_select5e1687e6b27db3').change(function() {
        var ignore = $(this).find(':selected').attr('data-ignore');
        if (typeof ignore === typeof undefined) {
            $('#single_select_f5e1687e6b27db2').submit();
        }
    });
});
;

require(['jquery', 'message_popup/message_popover_controller'], function($, controller) {
    var container = $('#nav-message-popover-container');
    var controller = new controller(container);
    controller.registerEventListeners();
    controller.registerListNavigationEventListeners();
});
;

require(['jquery', 'message_popup/notification_popover_controller'], function($, controller) {
    var container = $('#nav-notification-popover-container');
    var controller = new controller(container);
    controller.registerEventListeners();
    controller.registerListNavigationEventListeners();
});
;

        require(['jquery'], function($) {
            $('#jump-to-activity').change(function() {
                if (!$(this).val()) {
                    return false;
                }
                $('#url_select_f5e1687e6b27db16').submit();
            });
        });
    ;

require(['jquery'], function($) {
    $('#single_select5e1687e6b27db18').change(function() {
        var ignore = $(this).find(':selected').attr('data-ignore');
        if (typeof ignore === typeof undefined) {
            $('#single_select_f5e1687e6b27db17').submit();
        }
    });
});
;

require(['theme_boost/loader']);
require(['theme_boost/drawer'], function(mod) {
    mod.init();
});
;
require(["core/notification"], function(amd) { amd.init(2705319, []); });;
require(["core/log"], function(amd) { amd.setConfig({"level":"warn"}); });
});
//]]>
</script>
<script type="text/javascript">
//<![CDATA[
M.str = {"moodle":{"lastmodified":"Last modified","name":"Name","error":"Error","info":"Information","yes":"Yes","no":"No","cancel":"Cancel","confirm":"Confirm","areyousure":"Are you sure?","closebuttontitle":"Close","unknownerror":"Unknown error"},"repository":{"type":"Type","size":"Size","invalidjson":"Invalid JSON string","nofilesattached":"No files attached","filepicker":"File picker","logout":"Logout","nofilesavailable":"No files available","norepositoriesavailable":"Sorry, none of your current repositories can return files in the required format.","fileexistsdialogheader":"File exists","fileexistsdialog_editor":"A file with that name has already been attached to the text you are editing.","fileexistsdialog_filemanager":"A file with that name has already been attached","renameto":"Rename to \"{$a}\"","referencesexist":"There are {$a} alias\/shortcut files that use this file as their source","select":"Select"},"admin":{"confirmdeletecomments":"You are about to delete comments, are you sure?","confirmation":"Confirmation"}};
//]]>
</script>
<script type="text/javascript">
//<![CDATA[
(function() {Y.use("moodle-filter_mathjaxloader-loader",function() {M.filter_mathjaxloader.configure({"mathjaxconfig":"\nMathJax.Hub.Config({\n    config: [\"Accessible.js\", \"Safe.js\"],\n    errorSettings: { message: [\"!\"] },\n    skipStartupTypeset: true,\n    messageStyle: \"none\"\n});\n","lang":"en"});
});
M.util.help_popups.setup(Y);
 M.util.js_pending('random5e1687e6b27db19'); Y.on('domready', function() { M.util.js_complete("init");  M.util.js_complete('random5e1687e6b27db19'); });
})();
//]]>
</script>

    </div>
</footer>
</body>
</html>